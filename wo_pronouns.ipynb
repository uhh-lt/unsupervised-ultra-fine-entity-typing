{
 "cells": [
  {
   "cell_type": "code",
   "execution_count": 1,
   "id": "29447de9",
   "metadata": {},
   "outputs": [
    {
     "data": {
      "text/plain": [
       "'/home/sevgili/unsupervised_ultra_fine_entity_typing_experiments/unsupervised-ultra-fine-entity-typing'"
      ]
     },
     "execution_count": 1,
     "metadata": {},
     "output_type": "execute_result"
    }
   ],
   "source": [
    "pwd"
   ]
  },
  {
   "cell_type": "code",
   "execution_count": 2,
   "id": "77c8ed20",
   "metadata": {},
   "outputs": [],
   "source": [
    "import json\n",
    "from combination import exclude_pronouns\n",
    "\n",
    "file_path = '../open_type/release/crowd/test.json'\n",
    "\n",
    "with open(file_path, \"r\") as f:\n",
    "    data_lines = f.readlines()\n",
    "data_ = [json.loads(sent.strip()) for sent in data_lines]"
   ]
  },
  {
   "cell_type": "code",
   "execution_count": 3,
   "id": "19beb9ff",
   "metadata": {},
   "outputs": [],
   "source": [
    "jobimtext_file = 'predictions_jobimtext/predictions_test_open_type_with_jobimtext_headword_prepro_includeisas_inclmentionsim_5050.json'\n",
    "\n",
    "with open(jobimtext_file, 'r') as f:\n",
    "    predictions_jobimtext = json.load(f)\n",
    "    \n",
    "\n",
    "predictions_jobimtext_wo_pronouns = exclude_pronouns(data=data_, predictions=predictions_jobimtext)\n",
    "\n",
    "jobimtext_wo_pronouns_file = 'predictions_jobimtext/predictions_test_open_type_with_jobimtext_headword_prepro_includeisas_inclmentionsim_5050_wo_pronouns.json'\n",
    "\n",
    "with open(jobimtext_wo_pronouns_file, 'w') as f:\n",
    "    json.dump(predictions_jobimtext_wo_pronouns, f)"
   ]
  },
  {
   "cell_type": "code",
   "execution_count": 4,
   "id": "9049371f",
   "metadata": {},
   "outputs": [],
   "source": [
    "ufet_file = '../open_type/best_model/test.json'\n",
    "\n",
    "with open(ufet_file, 'r') as f:\n",
    "    predictions_ufet = json.load(f)\n",
    "    \n",
    "\n",
    "predictions_ufet_wo_pronouns = exclude_pronouns(data=data_, predictions=predictions_ufet)\n",
    "\n",
    "ufet_wo_pronouns_file = 'predictions_jobimtext/predictions_test_open_type_with_ufet_wo_pronouns.json'\n",
    "\n",
    "with open(ufet_wo_pronouns_file, 'w') as f:\n",
    "    json.dump(predictions_ufet_wo_pronouns, f)"
   ]
  },
  {
   "cell_type": "code",
   "execution_count": null,
   "id": "30d49540",
   "metadata": {},
   "outputs": [],
   "source": []
  }
 ],
 "metadata": {
  "kernelspec": {
   "display_name": "unsupervisedufet-env-publication",
   "language": "python",
   "name": "unsupervisedufet-env"
  },
  "language_info": {
   "codemirror_mode": {
    "name": "ipython",
    "version": 3
   },
   "file_extension": ".py",
   "mimetype": "text/x-python",
   "name": "python",
   "nbconvert_exporter": "python",
   "pygments_lexer": "ipython3",
   "version": "3.7.10"
  }
 },
 "nbformat": 4,
 "nbformat_minor": 5
}
