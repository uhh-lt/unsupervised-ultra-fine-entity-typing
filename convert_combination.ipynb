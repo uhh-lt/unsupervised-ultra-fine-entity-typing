{
 "cells": [
  {
   "cell_type": "code",
   "execution_count": 3,
   "id": "fd1ac60e",
   "metadata": {},
   "outputs": [
    {
     "data": {
      "text/plain": [
       "'/home/sevgili/unsupervised_ultra_fine_entity_typing_experiments'"
      ]
     },
     "execution_count": 3,
     "metadata": {},
     "output_type": "execute_result"
    }
   ],
   "source": [
    "%pwd"
   ]
  },
  {
   "cell_type": "code",
   "execution_count": 8,
   "id": "db703396",
   "metadata": {},
   "outputs": [],
   "source": [
    "import json\n",
    "\n",
    "combination_limit5_exclude = 'predictions_combination/predictions_test_combination_limit5_exclude.json'\n",
    "\n",
    "\n",
    "with open('unsupervised-ultra-fine-entity-typing/' + combination_limit5_exclude, 'r') as f:\n",
    "    predictions_combination_limit5_exclude = json.load(f)\n",
    "    \n",
    "predictions_combination_limit5_exclude_converted = {}\n",
    "\n",
    "for k, v in predictions_combination_limit5_exclude.items():\n",
    "    # re-converted to list since I got \"TypeError: Object of type set is not JSON serializable\"\n",
    "    predictions_combination_limit5_exclude_converted[k] = {'gold': v['gold'], 'pred': list(set(v['pred']))}\n",
    "    \n",
    "\n",
    "combination_limit5_exclude_converted = 'predictions_test_combination_limit5_exclude_converted.json'\n",
    "\n",
    "\n",
    "with open( combination_limit5_exclude_converted, 'w') as f:\n",
    "    json.dump(predictions_combination_limit5_exclude_converted, f)"
   ]
  },
  {
   "cell_type": "code",
   "execution_count": 10,
   "id": "6d71ddcd",
   "metadata": {},
   "outputs": [],
   "source": [
    "combination_exclude = 'predictions_combination/predictions_test_combination_wo_limit_exclude.json'\n",
    "\n",
    "\n",
    "with open('unsupervised-ultra-fine-entity-typing/' + combination_exclude, 'r') as f:\n",
    "    predictions_combination_exclude = json.load(f)\n",
    "    \n",
    "\n",
    "predictions_combination_exclude_converted = {}\n",
    "\n",
    "for k, v in predictions_combination_exclude.items():\n",
    "    # re-converted to list since I got \"TypeError: Object of type set is not JSON serializable\"\n",
    "    predictions_combination_exclude_converted[k] = {'gold': v['gold'], 'pred': list(set(v['pred']))}\n",
    "    \n",
    "\n",
    "combination_exclude_converted = 'predictions_test_combination_wo_limit_exclude_converted.json'\n",
    "\n",
    "\n",
    "with open(combination_exclude_converted, 'w') as f:\n",
    "    json.dump(predictions_combination_exclude_converted, f)"
   ]
  },
  {
   "cell_type": "code",
   "execution_count": 11,
   "id": "7e93d61b",
   "metadata": {},
   "outputs": [],
   "source": [
    "combination = 'predictions_combination/predictions_test_combination_wo_limit_wo_exclude.json'\n",
    "\n",
    "\n",
    "with open('unsupervised-ultra-fine-entity-typing/' + combination, 'r') as f:\n",
    "    predictions_combination = json.load(f)\n",
    "    \n",
    "\n",
    "predictions_combination_converted = {}\n",
    "\n",
    "for k, v in predictions_combination.items():\n",
    "    # re-converted to list since I got \"TypeError: Object of type set is not JSON serializable\"\n",
    "    predictions_combination_converted[k] = {'gold': v['gold'], 'pred': list(set(v['pred']))}\n",
    "    \n",
    "\n",
    "combination_converted = 'predictions_test_combination_wo_limit_wo_exclude_converted.json'\n",
    "\n",
    "\n",
    "with open(combination_converted, 'w') as f:\n",
    "    json.dump(predictions_combination_converted, f)"
   ]
  },
  {
   "cell_type": "code",
   "execution_count": 12,
   "id": "6ccdf933",
   "metadata": {},
   "outputs": [],
   "source": [
    "combination_limit5 = 'predictions_combination/predictions_test_combination_limit5_wo_exclude.json'\n",
    "\n",
    "\n",
    "with open('unsupervised-ultra-fine-entity-typing/' + combination_limit5, 'r') as f:\n",
    "    predictions_combination_limit5 = json.load(f)\n",
    "    \n",
    "\n",
    "predictions_combination_limit5_converted = {}\n",
    "\n",
    "for k, v in predictions_combination_limit5.items():\n",
    "    # re-converted to list since I got \"TypeError: Object of type set is not JSON serializable\"\n",
    "    predictions_combination_limit5_converted[k] = {'gold': v['gold'], 'pred': list(set(v['pred']))}\n",
    "    \n",
    "\n",
    "combination_limit5_converted = 'predictions_test_combination_limit5_wo_exclude_converted.json'\n",
    "\n",
    "\n",
    "with open(combination_limit5_converted, 'w') as f:\n",
    "    json.dump(predictions_combination_limit5_converted, f)"
   ]
  },
  {
   "cell_type": "code",
   "execution_count": null,
   "id": "873c2906",
   "metadata": {},
   "outputs": [],
   "source": []
  }
 ],
 "metadata": {
  "kernelspec": {
   "display_name": "unsupervisedufet-env-publication",
   "language": "python",
   "name": "unsupervisedufet-env"
  },
  "language_info": {
   "codemirror_mode": {
    "name": "ipython",
    "version": 3
   },
   "file_extension": ".py",
   "mimetype": "text/x-python",
   "name": "python",
   "nbconvert_exporter": "python",
   "pygments_lexer": "ipython3",
   "version": "3.7.10"
  }
 },
 "nbformat": 4,
 "nbformat_minor": 5
}
